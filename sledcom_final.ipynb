{
 "cells": [
  {
   "cell_type": "code",
   "execution_count": 1,
   "id": "012507eb-0fd3-43d3-a298-e28471f77790",
   "metadata": {
    "tags": []
   },
   "outputs": [],
   "source": [
    "import re\n",
    "import pandas as pd\n",
    "import requests\n",
    "import openpyxl\n",
    "from time import sleep\n",
    "from random import uniform\n",
    "from tqdm import tqdm\n",
    "from bs4 import BeautifulSoup"
   ]
  },
  {
   "cell_type": "code",
   "execution_count": 2,
   "id": "fe65dca0-715d-4959-a8c1-06d921ae9965",
   "metadata": {
    "tags": []
   },
   "outputs": [],
   "source": [
    "headers = {\n",
    "    'User-Agent': 'Mozilla/5.0 (Windows NT 10.0; Win64; x64) AppleWebKit/537.36 (KHTML, like Gecko) Chrome/91.0.4472.124 Safari/537.36'\n",
    "}"
   ]
  },
  {
   "cell_type": "code",
   "execution_count": 13,
   "id": "58602f2a-d2f2-4091-9854-7bccb8af9bcb",
   "metadata": {
    "tags": []
   },
   "outputs": [],
   "source": [
    "def get_page(url):\n",
    "    try:\n",
    "        response = requests.get(url, headers=headers, timeout=35)\n",
    "        response.raise_for_status()\n",
    "        return BeautifulSoup(response.text, 'lxml')\n",
    "    except requests.exceptions.RequestException as e:\n",
    "        print(f\"Error fetching {url}: {e}\")\n",
    "        return None"
   ]
  },
  {
   "cell_type": "code",
   "execution_count": 4,
   "id": "c993e34d-4929-4dd7-bbc9-9e702cea437c",
   "metadata": {
    "tags": []
   },
   "outputs": [],
   "source": [
    "def scrape_criminals(url):\n",
    "    soup = get_page(url)\n",
    "    hrefs = soup.find_all(\"a\", class_=\"branches-list__item iconf-share2\")\n",
    "    links = [a['href'] for a in hrefs if a.has_attr('href')]\n",
    "    soup_links = []\n",
    "    for link in links:\n",
    "        soup_links.append(get_page(link))\n",
    "        sleep(uniform(1, 2))\n",
    "    links_next = []\n",
    "    for i in tqdm(range(len(soup_links))):\n",
    "        menu_links = []\n",
    "        menu_links = soup_links[i].find_all(\"a\", class_=\"b-menu-link\")\n",
    "        for link in menu_links:\n",
    "            if link.text == 'Внимание, розыск!' and link.has_attr('href'):\n",
    "                links_next.append(f\"{links[i]}{link['href']}\")\n",
    "        sleep(uniform(1, 2))\n",
    "    soup_links_next = []\n",
    "    for link in links_next:\n",
    "        soup_links_next.append(get_page(link))\n",
    "        sleep(uniform(1, 2))\n",
    "    links_next_next = []\n",
    "    for i in tqdm(range(len(soup_links_next))):\n",
    "        main_links = []\n",
    "        main_links = soup_links_next[i].find_all(\"li\")\n",
    "        for link in main_links:\n",
    "            a_tag = link.find('a')\n",
    "            if link.text == 'Подозреваемые в совершении преступлений' and a_tag.has_attr('href'):\n",
    "                links_next_next.append(f\"{links[i]}{a_tag['href']}\")\n",
    "        sleep(uniform(1, 2))\n",
    "    links_next_next_full = []\n",
    "    for i in tqdm(range(len(links_next_next))):\n",
    "        j = 1\n",
    "        while True:\n",
    "            link = f\"{links_next_next[i]}/{j}/\"\n",
    "            try:\n",
    "                response = requests.get(link, headers=headers)\n",
    "                if response.status_code == 200:\n",
    "                    j += 1\n",
    "                    links_next_next_full.append(link)\n",
    "                    print(link)\n",
    "                else:\n",
    "                    break\n",
    "            except requests.exceptions.RequestException as e:\n",
    "                print(f\"Error fetching {link}: {e}\")\n",
    "                break\n",
    "        sleep(uniform(1, 2))\n",
    "    soup_links_next_next_full = []\n",
    "    for link in links_next_next_full:\n",
    "        soup_links_next_next_full.append(get_page(link))\n",
    "        sleep(uniform(1, 2))\n",
    "    criminals = []\n",
    "    for i in range(len(soup_links_next_next_full)):\n",
    "        criminals.append(soup_links_next_next_full[i].find_all(\"div\", class_=\"bl-item clearfix\"))\n",
    "    return criminals, links_next_next_full"
   ]
  },
  {
   "cell_type": "code",
   "execution_count": 17,
   "id": "083bb477-cbca-4946-a621-a10d2f2d7dd2",
   "metadata": {
    "tags": []
   },
   "outputs": [],
   "source": [
    "def scrape_criminal_data(criminals, links_next_next_full):\n",
    "    pattern = r\"^(?:[^/]*\\/){3}(.*)\"\n",
    "    pattern_full_text = r'^\\n$'\n",
    "    pattern_base_url = r'^(https?://[^/]+)'\n",
    "    pattern_drop_end = r'^(.*)\\/.*?\\/$'\n",
    "    df = pd.DataFrame(columns=['Title', 'Text', 'Image'])\n",
    "    for i in tqdm(range(len(criminals))):\n",
    "        for j in range(len(criminals[i])):\n",
    "            title = \"\"\n",
    "            image_url = \"\"\n",
    "            full_text = \"\"\n",
    "            title_div = criminals[i][j].find(\"div\", class_=\"bl-item-title\")\n",
    "            if title_div:\n",
    "                a_tag = title_div.find(\"a\")\n",
    "                if a_tag:\n",
    "                    href_criminal = a_tag\n",
    "                    if href_criminal:\n",
    "                        match = re.search(pattern, href_criminal['href'])\n",
    "                        if match:\n",
    "                            extracted_part = match.group(1)\n",
    "                            links_next_next_full_drop_end_group = re.search(pattern_drop_end, links_next_next_full[i])\n",
    "                            links_next_next_full_drop_end = links_next_next_full_drop_end_group.group(1)\n",
    "                            full_path_to_criminal = f'{links_next_next_full_drop_end}/{extracted_part}'\n",
    "                            criminal_html = get_page(full_path_to_criminal)\n",
    "                            if criminal_html:\n",
    "                                criminal_info_blocks = criminal_html.find(\"section\", class_=\"b-container-center\")\n",
    "                                title_element = criminal_info_blocks.find(\"h1\", class_=\"b-topic t-h1 m_b4\")\n",
    "                                if title_element:\n",
    "                                    title = title_element.text\n",
    "                                else:\n",
    "                                    criminal_info_blocks = criminal_html.find(\"div\", id=\"news_position\")\n",
    "                                    title_element = criminal_info_blocks.find(\"div\", class_=\"header\")\n",
    "                                    if title_element:\n",
    "                                        title_find = title_element.find(\"h1\")\n",
    "                                        if title_find:\n",
    "                                            title = title_find.text\n",
    "                                article = criminal_info_blocks.find(\"article\", class_=\"c-detail m_b4\")\n",
    "                                if article:\n",
    "                                    match = re.match(pattern_base_url, links_next_next_full[i])\n",
    "                                    if match:\n",
    "                                        base_url = match.group(1)\n",
    "                                    img_tag = article.find(\"img\")\n",
    "                                    if img_tag:\n",
    "                                        image_url = f'{base_url}{img_tag.get(\"src\")}'\n",
    "                                    paragraphs = article.find_all(['p', 'div', 'span', 'br'])\n",
    "                                    full_text = \"\\n\".join([p.text.strip() for p in paragraphs])\n",
    "                                    if re.match(pattern_full_text, full_text):\n",
    "                                        full_text = article.text\n",
    "                                else:\n",
    "                                    div = criminal_info_blocks.find(\"div\", class_=\"c-detail text\")\n",
    "                                    if div:\n",
    "                                        match = re.match(pattern_base_url, links_next_next_full[i])\n",
    "                                        if match:\n",
    "                                            base_url = match.group(1)\n",
    "                                        img_tag = div.find(\"img\")\n",
    "                                        if img_tag:\n",
    "                                            image_url = f'{base_url}{img_tag.get(\"src\")}'\n",
    "                                        paragraphs = div.find_all(['p', 'div', 'span', 'br'])\n",
    "                                        full_text = \"\\n\".join([p.text.strip() for p in paragraphs])\n",
    "                                df.loc[len(df)] = title, full_text, image_url\n",
    "            sleep(uniform(1, 2))\n",
    "    return df"
   ]
  },
  {
   "cell_type": "code",
   "execution_count": 6,
   "id": "244faaa8-bf42-4216-b04c-4b89b878b58f",
   "metadata": {
    "tags": []
   },
   "outputs": [],
   "source": [
    "url = \"https://sledcom.ru/sk_russia/structure/mapregions/\""
   ]
  },
  {
   "cell_type": "code",
   "execution_count": 7,
   "id": "14617c6f-5771-4b66-b27a-b45504b467ed",
   "metadata": {
    "collapsed": true,
    "jupyter": {
     "outputs_hidden": true
    },
    "tags": []
   },
   "outputs": [
    {
     "name": "stderr",
     "output_type": "stream",
     "text": [
      "100%|██████████| 89/89 [02:13<00:00,  1.50s/it]\n",
      "100%|██████████| 89/89 [02:18<00:00,  1.56s/it]\n",
      "  0%|          | 0/76 [00:00<?, ?it/s]"
     ]
    },
    {
     "name": "stdout",
     "output_type": "stream",
     "text": [
      "http://belgorod.sledcom.ru/attention/suspected_persons/1/\n"
     ]
    },
    {
     "name": "stderr",
     "output_type": "stream",
     "text": [
      "  1%|▏         | 1/76 [00:03<04:44,  3.79s/it]"
     ]
    },
    {
     "name": "stdout",
     "output_type": "stream",
     "text": [
      "http://vladimir.sledcom.ru/attention/suspected_persons/1/\n"
     ]
    },
    {
     "name": "stderr",
     "output_type": "stream",
     "text": [
      "  3%|▎         | 2/76 [00:06<04:05,  3.32s/it]"
     ]
    },
    {
     "name": "stdout",
     "output_type": "stream",
     "text": [
      "http://voronezh.sledcom.ru/attention/suspected_persons/1/\n"
     ]
    },
    {
     "name": "stderr",
     "output_type": "stream",
     "text": [
      "  4%|▍         | 3/76 [00:10<04:19,  3.56s/it]"
     ]
    },
    {
     "name": "stdout",
     "output_type": "stream",
     "text": [
      "http://ivanovo.sledcom.ru/attention/suspected_persons/1/\n",
      "http://ivanovo.sledcom.ru/attention/suspected_persons/2/\n",
      "http://ivanovo.sledcom.ru/attention/suspected_persons/3/\n"
     ]
    },
    {
     "name": "stderr",
     "output_type": "stream",
     "text": [
      "  5%|▌         | 4/76 [00:15<04:44,  3.95s/it]"
     ]
    },
    {
     "name": "stdout",
     "output_type": "stream",
     "text": [
      "http://kaluga.sledcom.ru/attention/suspected_persons/1/\n"
     ]
    },
    {
     "name": "stderr",
     "output_type": "stream",
     "text": [
      "  7%|▋         | 5/76 [00:18<04:31,  3.83s/it]"
     ]
    },
    {
     "name": "stdout",
     "output_type": "stream",
     "text": [
      "http://kursk.sledcom.ru/attention/suspected_persons/1/\n",
      "http://kursk.sledcom.ru/attention/suspected_persons/2/\n",
      "http://kursk.sledcom.ru/attention/suspected_persons/3/\n"
     ]
    },
    {
     "name": "stderr",
     "output_type": "stream",
     "text": [
      "  8%|▊         | 6/76 [00:23<04:42,  4.04s/it]"
     ]
    },
    {
     "name": "stdout",
     "output_type": "stream",
     "text": [
      "http://lipetsk.sledcom.ru/attention/suspected_persons/1/\n"
     ]
    },
    {
     "name": "stderr",
     "output_type": "stream",
     "text": [
      "  9%|▉         | 7/76 [00:26<04:25,  3.85s/it]"
     ]
    },
    {
     "name": "stdout",
     "output_type": "stream",
     "text": [
      "http://moscow.sledcom.ru/attention/Podozrevaemie_v_sovershenii_prestuplenij/1/\n"
     ]
    },
    {
     "name": "stderr",
     "output_type": "stream",
     "text": [
      " 11%|█         | 8/76 [00:29<03:59,  3.52s/it]"
     ]
    },
    {
     "name": "stdout",
     "output_type": "stream",
     "text": [
      "http://mosobl.sledcom.ru/attention/Podozrevaemie_v_sovershenii_prestuplenij/1/\n",
      "http://mosobl.sledcom.ru/attention/Podozrevaemie_v_sovershenii_prestuplenij/2/\n"
     ]
    },
    {
     "name": "stderr",
     "output_type": "stream",
     "text": [
      " 12%|█▏        | 9/76 [00:33<04:14,  3.80s/it]"
     ]
    },
    {
     "name": "stdout",
     "output_type": "stream",
     "text": [
      "http://orel.sledcom.ru/attention/suspected_persons/1/\n"
     ]
    },
    {
     "name": "stderr",
     "output_type": "stream",
     "text": [
      " 13%|█▎        | 10/76 [00:37<04:03,  3.68s/it]"
     ]
    },
    {
     "name": "stdout",
     "output_type": "stream",
     "text": [
      "http://ryazan.sledcom.ru/attention/suspected_persons/1/\n",
      "http://ryazan.sledcom.ru/attention/suspected_persons/2/\n"
     ]
    },
    {
     "name": "stderr",
     "output_type": "stream",
     "text": [
      " 14%|█▍        | 11/76 [00:40<03:54,  3.60s/it]"
     ]
    },
    {
     "name": "stdout",
     "output_type": "stream",
     "text": [
      "http://smolensk.sledcom.ru/attention/suspected_persons/1/\n",
      "http://smolensk.sledcom.ru/attention/suspected_persons/2/\n",
      "http://smolensk.sledcom.ru/attention/suspected_persons/3/\n"
     ]
    },
    {
     "name": "stderr",
     "output_type": "stream",
     "text": [
      " 16%|█▌        | 12/76 [00:44<03:53,  3.65s/it]"
     ]
    },
    {
     "name": "stdout",
     "output_type": "stream",
     "text": [
      "http://tambov.sledcom.ru/attention/suspected_persons/1/\n",
      "http://tambov.sledcom.ru/attention/suspected_persons/2/\n",
      "http://tambov.sledcom.ru/attention/suspected_persons/3/\n"
     ]
    },
    {
     "name": "stderr",
     "output_type": "stream",
     "text": [
      " 17%|█▋        | 13/76 [00:49<04:13,  4.03s/it]"
     ]
    },
    {
     "name": "stdout",
     "output_type": "stream",
     "text": [
      "http://tver.sledcom.ru/attention/suspected_persons/1/\n"
     ]
    },
    {
     "name": "stderr",
     "output_type": "stream",
     "text": [
      " 18%|█▊        | 14/76 [00:53<04:05,  3.95s/it]"
     ]
    },
    {
     "name": "stdout",
     "output_type": "stream",
     "text": [
      "http://yaroslavl.sledcom.ru/attention/suspected_persons/1/\n",
      "http://yaroslavl.sledcom.ru/attention/suspected_persons/2/\n",
      "http://yaroslavl.sledcom.ru/attention/suspected_persons/3/\n",
      "http://yaroslavl.sledcom.ru/attention/suspected_persons/4/\n"
     ]
    },
    {
     "name": "stderr",
     "output_type": "stream",
     "text": [
      " 20%|█▉        | 15/76 [00:59<04:46,  4.70s/it]"
     ]
    },
    {
     "name": "stdout",
     "output_type": "stream",
     "text": [
      "http://zmsut.sledcom.ru/attention/suspected_persons/1/\n",
      "http://zmsut.sledcom.ru/attention/suspected_persons/2/\n"
     ]
    },
    {
     "name": "stderr",
     "output_type": "stream",
     "text": [
      " 21%|██        | 16/76 [01:03<04:26,  4.44s/it]"
     ]
    },
    {
     "name": "stdout",
     "output_type": "stream",
     "text": [
      "http://arh.sledcom.ru/attention/suspected_persons/1/\n",
      "http://arh.sledcom.ru/attention/suspected_persons/2/\n",
      "http://arh.sledcom.ru/attention/suspected_persons/3/\n",
      "http://arh.sledcom.ru/attention/suspected_persons/4/\n",
      "http://arh.sledcom.ru/attention/suspected_persons/5/\n",
      "http://arh.sledcom.ru/attention/suspected_persons/6/\n"
     ]
    },
    {
     "name": "stderr",
     "output_type": "stream",
     "text": [
      " 22%|██▏       | 17/76 [01:10<05:00,  5.10s/it]"
     ]
    },
    {
     "name": "stdout",
     "output_type": "stream",
     "text": [
      "http://vologda.sledcom.ru/attention/suspected_persons/1/\n",
      "http://vologda.sledcom.ru/attention/suspected_persons/2/\n",
      "http://vologda.sledcom.ru/attention/suspected_persons/3/\n"
     ]
    },
    {
     "name": "stderr",
     "output_type": "stream",
     "text": [
      " 24%|██▎       | 18/76 [01:15<04:56,  5.11s/it]"
     ]
    },
    {
     "name": "stdout",
     "output_type": "stream",
     "text": [
      "http://kld.sledcom.ru/attention/suspected_persons/1/\n",
      "http://kld.sledcom.ru/attention/suspected_persons/2/\n"
     ]
    },
    {
     "name": "stderr",
     "output_type": "stream",
     "text": [
      " 25%|██▌       | 19/76 [01:19<04:29,  4.73s/it]"
     ]
    },
    {
     "name": "stdout",
     "output_type": "stream",
     "text": [
      "http://lenobl.sledcom.ru/attention/suspected_persons/1/\n",
      "http://lenobl.sledcom.ru/attention/suspected_persons/2/\n",
      "http://lenobl.sledcom.ru/attention/suspected_persons/3/\n",
      "http://lenobl.sledcom.ru/attention/suspected_persons/4/\n",
      "http://lenobl.sledcom.ru/attention/suspected_persons/5/\n",
      "http://lenobl.sledcom.ru/attention/suspected_persons/6/\n",
      "http://lenobl.sledcom.ru/attention/suspected_persons/7/\n",
      "http://lenobl.sledcom.ru/attention/suspected_persons/8/\n",
      "http://lenobl.sledcom.ru/attention/suspected_persons/9/\n",
      "http://lenobl.sledcom.ru/attention/suspected_persons/10/\n",
      "http://lenobl.sledcom.ru/attention/suspected_persons/11/\n",
      "http://lenobl.sledcom.ru/attention/suspected_persons/12/\n",
      "http://lenobl.sledcom.ru/attention/suspected_persons/13/\n",
      "http://lenobl.sledcom.ru/attention/suspected_persons/14/\n",
      "http://lenobl.sledcom.ru/attention/suspected_persons/15/\n",
      "http://lenobl.sledcom.ru/attention/suspected_persons/16/\n",
      "http://lenobl.sledcom.ru/attention/suspected_persons/17/\n"
     ]
    },
    {
     "name": "stderr",
     "output_type": "stream",
     "text": [
      " 26%|██▋       | 20/76 [01:35<07:41,  8.24s/it]"
     ]
    },
    {
     "name": "stdout",
     "output_type": "stream",
     "text": [
      "http://murmansk.sledcom.ru/attention/suspected_persons/1/\n",
      "http://murmansk.sledcom.ru/attention/suspected_persons/2/\n",
      "http://murmansk.sledcom.ru/attention/suspected_persons/3/\n"
     ]
    },
    {
     "name": "stderr",
     "output_type": "stream",
     "text": [
      " 28%|██▊       | 21/76 [01:39<06:26,  7.03s/it]"
     ]
    },
    {
     "name": "stdout",
     "output_type": "stream",
     "text": [
      "http://vnovgorod.sledcom.ru/attention/suspected_persons/1/\n",
      "http://vnovgorod.sledcom.ru/attention/suspected_persons/2/\n",
      "http://vnovgorod.sledcom.ru/attention/suspected_persons/3/\n",
      "http://vnovgorod.sledcom.ru/attention/suspected_persons/4/\n"
     ]
    },
    {
     "name": "stderr",
     "output_type": "stream",
     "text": [
      " 29%|██▉       | 22/76 [01:45<05:59,  6.66s/it]"
     ]
    },
    {
     "name": "stdout",
     "output_type": "stream",
     "text": [
      "http://pskov.sledcom.ru/attention/suspected_persons/1/\n",
      "http://pskov.sledcom.ru/attention/suspected_persons/2/\n",
      "http://pskov.sledcom.ru/attention/suspected_persons/3/\n"
     ]
    },
    {
     "name": "stderr",
     "output_type": "stream",
     "text": [
      " 30%|███       | 23/76 [01:50<05:19,  6.04s/it]"
     ]
    },
    {
     "name": "stdout",
     "output_type": "stream",
     "text": [
      "http://karelia.sledcom.ru/attention/suspected_persons/1/\n",
      "http://karelia.sledcom.ru/attention/suspected_persons/2/\n",
      "http://karelia.sledcom.ru/attention/suspected_persons/3/\n"
     ]
    },
    {
     "name": "stderr",
     "output_type": "stream",
     "text": [
      " 32%|███▏      | 24/76 [01:54<04:43,  5.45s/it]"
     ]
    },
    {
     "name": "stdout",
     "output_type": "stream",
     "text": [
      "http://komi.sledcom.ru/attention/suspected_persons/1/\n",
      "http://komi.sledcom.ru/attention/suspected_persons/2/\n"
     ]
    },
    {
     "name": "stderr",
     "output_type": "stream",
     "text": [
      " 33%|███▎      | 25/76 [01:58<04:23,  5.16s/it]"
     ]
    },
    {
     "name": "stdout",
     "output_type": "stream",
     "text": [
      "http://spb.sledcom.ru/folder/918993/1/\n",
      "http://spb.sledcom.ru/folder/918993/2/\n",
      "http://spb.sledcom.ru/folder/918993/3/\n",
      "http://spb.sledcom.ru/folder/918993/4/\n",
      "http://spb.sledcom.ru/folder/918993/5/\n",
      "http://spb.sledcom.ru/folder/918993/6/\n",
      "http://spb.sledcom.ru/folder/918993/7/\n",
      "http://spb.sledcom.ru/folder/918993/8/\n",
      "http://spb.sledcom.ru/folder/918993/9/\n",
      "http://spb.sledcom.ru/folder/918993/10/\n",
      "http://spb.sledcom.ru/folder/918993/11/\n"
     ]
    },
    {
     "name": "stderr",
     "output_type": "stream",
     "text": [
      " 34%|███▍      | 26/76 [02:10<05:53,  7.08s/it]"
     ]
    },
    {
     "name": "stdout",
     "output_type": "stream",
     "text": [
      "http://astr.sledcom.ru/attention/suspected_persons/1/\n"
     ]
    },
    {
     "name": "stderr",
     "output_type": "stream",
     "text": [
      " 36%|███▌      | 27/76 [02:13<04:47,  5.87s/it]"
     ]
    },
    {
     "name": "stdout",
     "output_type": "stream",
     "text": [
      "http://volgograd.sledcom.ru/attention/suspected_persons/1/\n",
      "http://volgograd.sledcom.ru/attention/suspected_persons/2/\n"
     ]
    },
    {
     "name": "stderr",
     "output_type": "stream",
     "text": [
      " 37%|███▋      | 28/76 [02:16<04:07,  5.16s/it]"
     ]
    },
    {
     "name": "stdout",
     "output_type": "stream",
     "text": [
      "http://kuban.sledcom.ru/attention/suspected_persons/1/\n",
      "http://kuban.sledcom.ru/attention/suspected_persons/2/\n"
     ]
    },
    {
     "name": "stderr",
     "output_type": "stream",
     "text": [
      " 38%|███▊      | 29/76 [02:19<03:34,  4.56s/it]"
     ]
    },
    {
     "name": "stdout",
     "output_type": "stream",
     "text": [
      "http://adygheya.sledcom.ru/attention/suspected_persons/1/\n",
      "http://adygheya.sledcom.ru/attention/suspected_persons/2/\n",
      "http://adygheya.sledcom.ru/attention/suspected_persons/3/\n",
      "http://adygheya.sledcom.ru/attention/suspected_persons/4/\n",
      "http://adygheya.sledcom.ru/attention/suspected_persons/5/\n",
      "http://adygheya.sledcom.ru/attention/suspected_persons/6/\n",
      "http://adygheya.sledcom.ru/attention/suspected_persons/7/\n",
      "http://adygheya.sledcom.ru/attention/suspected_persons/8/\n",
      "http://adygheya.sledcom.ru/attention/suspected_persons/9/\n",
      "http://adygheya.sledcom.ru/attention/suspected_persons/10/\n",
      "http://adygheya.sledcom.ru/attention/suspected_persons/11/\n",
      "http://adygheya.sledcom.ru/attention/suspected_persons/12/\n"
     ]
    },
    {
     "name": "stderr",
     "output_type": "stream",
     "text": [
      " 39%|███▉      | 30/76 [02:30<04:52,  6.35s/it]"
     ]
    },
    {
     "name": "stdout",
     "output_type": "stream",
     "text": [
      "http://kalmykia.sledcom.ru/folder/870600/1/\n",
      "http://kalmykia.sledcom.ru/folder/870600/2/\n",
      "http://kalmykia.sledcom.ru/folder/870600/3/\n"
     ]
    },
    {
     "name": "stderr",
     "output_type": "stream",
     "text": [
      " 41%|████      | 31/76 [02:34<04:20,  5.79s/it]"
     ]
    },
    {
     "name": "stdout",
     "output_type": "stream",
     "text": [
      "http://crim.sledcom.ru/attention/suspected_persons/1/\n",
      "http://crim.sledcom.ru/attention/suspected_persons/2/\n",
      "http://crim.sledcom.ru/attention/suspected_persons/3/\n"
     ]
    },
    {
     "name": "stderr",
     "output_type": "stream",
     "text": [
      " 42%|████▏     | 32/76 [02:39<04:03,  5.54s/it]"
     ]
    },
    {
     "name": "stdout",
     "output_type": "stream",
     "text": [
      "http://kchr.sledcom.ru/attention/suspected_persons/1/\n"
     ]
    },
    {
     "name": "stderr",
     "output_type": "stream",
     "text": [
      " 43%|████▎     | 33/76 [02:42<03:22,  4.72s/it]"
     ]
    },
    {
     "name": "stdout",
     "output_type": "stream",
     "text": [
      "http://dagestan.sledcom.ru/attention/suspected_persons/1/\n",
      "http://dagestan.sledcom.ru/attention/suspected_persons/2/\n"
     ]
    },
    {
     "name": "stderr",
     "output_type": "stream",
     "text": [
      " 45%|████▍     | 34/76 [02:46<03:10,  4.55s/it]"
     ]
    },
    {
     "name": "stdout",
     "output_type": "stream",
     "text": [
      "http://ingushetia.sledcom.ru/attention/suspected_persons/1/\n",
      "http://ingushetia.sledcom.ru/attention/suspected_persons/2/\n"
     ]
    },
    {
     "name": "stderr",
     "output_type": "stream",
     "text": [
      " 46%|████▌     | 35/76 [02:50<03:00,  4.39s/it]"
     ]
    },
    {
     "name": "stdout",
     "output_type": "stream",
     "text": [
      "http://chr.sledcom.ru/attention/suspected_persons/1/\n"
     ]
    },
    {
     "name": "stderr",
     "output_type": "stream",
     "text": [
      " 47%|████▋     | 36/76 [02:53<02:37,  3.94s/it]"
     ]
    },
    {
     "name": "stdout",
     "output_type": "stream",
     "text": [
      "http://kirov.sledcom.ru/attention/suspected_persons/1/\n",
      "http://kirov.sledcom.ru/attention/suspected_persons/2/\n"
     ]
    },
    {
     "name": "stderr",
     "output_type": "stream",
     "text": [
      " 49%|████▊     | 37/76 [02:57<02:29,  3.83s/it]"
     ]
    },
    {
     "name": "stdout",
     "output_type": "stream",
     "text": [
      "http://nnovgorod.sledcom.ru/attention/suspected_persons/1/\n",
      "http://nnovgorod.sledcom.ru/attention/suspected_persons/2/\n"
     ]
    },
    {
     "name": "stderr",
     "output_type": "stream",
     "text": [
      " 50%|█████     | 38/76 [03:01<02:33,  4.03s/it]"
     ]
    },
    {
     "name": "stdout",
     "output_type": "stream",
     "text": [
      "http://oren.sledcom.ru/attention/suspected_persons/1/\n"
     ]
    },
    {
     "name": "stderr",
     "output_type": "stream",
     "text": [
      " 51%|█████▏    | 39/76 [03:05<02:20,  3.79s/it]"
     ]
    },
    {
     "name": "stdout",
     "output_type": "stream",
     "text": [
      "http://penza.sledcom.ru/attention/suspected_persons/1/\n",
      "http://penza.sledcom.ru/attention/suspected_persons/2/\n",
      "http://penza.sledcom.ru/attention/suspected_persons/3/\n"
     ]
    },
    {
     "name": "stderr",
     "output_type": "stream",
     "text": [
      " 53%|█████▎    | 40/76 [03:10<02:29,  4.17s/it]"
     ]
    },
    {
     "name": "stdout",
     "output_type": "stream",
     "text": [
      "http://perm.sledcom.ru/attention/suspected_persons/1/\n",
      "http://perm.sledcom.ru/attention/suspected_persons/2/\n"
     ]
    },
    {
     "name": "stderr",
     "output_type": "stream",
     "text": [
      " 54%|█████▍    | 41/76 [03:13<02:17,  3.93s/it]"
     ]
    },
    {
     "name": "stdout",
     "output_type": "stream",
     "text": [
      "http://surb.sledcom.ru/attention/Podozrevaemye-v-sovershenii-prestuplenij/1/\n"
     ]
    },
    {
     "name": "stderr",
     "output_type": "stream",
     "text": [
      " 55%|█████▌    | 42/76 [03:16<02:03,  3.63s/it]"
     ]
    },
    {
     "name": "stdout",
     "output_type": "stream",
     "text": [
      "http://mari.sledcom.ru/attention/suspected_persons/1/\n",
      "http://mari.sledcom.ru/attention/suspected_persons/2/\n"
     ]
    },
    {
     "name": "stderr",
     "output_type": "stream",
     "text": [
      " 57%|█████▋    | 43/76 [03:19<01:58,  3.59s/it]"
     ]
    },
    {
     "name": "stdout",
     "output_type": "stream",
     "text": [
      "http://mordovia.sledcom.ru/attention/suspected_persons/1/\n",
      "http://mordovia.sledcom.ru/attention/suspected_persons/2/\n",
      "http://mordovia.sledcom.ru/attention/suspected_persons/3/\n"
     ]
    },
    {
     "name": "stderr",
     "output_type": "stream",
     "text": [
      " 58%|█████▊    | 44/76 [03:23<01:58,  3.71s/it]"
     ]
    },
    {
     "name": "stdout",
     "output_type": "stream",
     "text": [
      "http://tatarstan.sledcom.ru/attention/suspected_persons/1/\n"
     ]
    },
    {
     "name": "stderr",
     "output_type": "stream",
     "text": [
      " 59%|█████▉    | 45/76 [03:26<01:42,  3.31s/it]"
     ]
    },
    {
     "name": "stdout",
     "output_type": "stream",
     "text": [
      "http://samara.sledcom.ru/attention/suspected_persons/1/\n"
     ]
    },
    {
     "name": "stderr",
     "output_type": "stream",
     "text": [
      " 61%|██████    | 46/76 [03:29<01:42,  3.43s/it]"
     ]
    },
    {
     "name": "stdout",
     "output_type": "stream",
     "text": [
      "http://saratov.sledcom.ru/attention/suspected_persons/1/\n"
     ]
    },
    {
     "name": "stderr",
     "output_type": "stream",
     "text": [
      " 62%|██████▏   | 47/76 [03:33<01:42,  3.55s/it]"
     ]
    },
    {
     "name": "stdout",
     "output_type": "stream",
     "text": [
      "http://udm.sledcom.ru/attention/suspected_persons/1/\n",
      "http://udm.sledcom.ru/attention/suspected_persons/2/\n"
     ]
    },
    {
     "name": "stderr",
     "output_type": "stream",
     "text": [
      " 63%|██████▎   | 48/76 [03:37<01:42,  3.65s/it]"
     ]
    },
    {
     "name": "stdout",
     "output_type": "stream",
     "text": [
      "http://ulyanovsk.sledcom.ru/attention/suspected_persons/1/\n"
     ]
    },
    {
     "name": "stderr",
     "output_type": "stream",
     "text": [
      " 64%|██████▍   | 49/76 [03:40<01:32,  3.43s/it]"
     ]
    },
    {
     "name": "stdout",
     "output_type": "stream",
     "text": [
      "http://chuvashia.sledcom.ru/attention/suspected_persons/1/\n"
     ]
    },
    {
     "name": "stderr",
     "output_type": "stream",
     "text": [
      " 66%|██████▌   | 50/76 [03:43<01:23,  3.23s/it]"
     ]
    },
    {
     "name": "stdout",
     "output_type": "stream",
     "text": [
      "http://psut.sledcom.ru/attention/suspected_persons/1/\n"
     ]
    },
    {
     "name": "stderr",
     "output_type": "stream",
     "text": [
      " 67%|██████▋   | 51/76 [03:46<01:19,  3.19s/it]"
     ]
    },
    {
     "name": "stdout",
     "output_type": "stream",
     "text": [
      "http://kurgan.sledcom.ru/attention/suspected_persons/1/\n",
      "http://kurgan.sledcom.ru/attention/suspected_persons/2/\n",
      "http://kurgan.sledcom.ru/attention/suspected_persons/3/\n",
      "http://kurgan.sledcom.ru/attention/suspected_persons/4/\n",
      "http://kurgan.sledcom.ru/attention/suspected_persons/5/\n",
      "http://kurgan.sledcom.ru/attention/suspected_persons/6/\n"
     ]
    },
    {
     "name": "stderr",
     "output_type": "stream",
     "text": [
      " 68%|██████▊   | 52/76 [03:52<01:39,  4.13s/it]"
     ]
    },
    {
     "name": "stdout",
     "output_type": "stream",
     "text": [
      "http://sverdlovsk.sledcom.ru/attention/suspected_persons/1/\n",
      "http://sverdlovsk.sledcom.ru/attention/suspected_persons/2/\n",
      "http://sverdlovsk.sledcom.ru/attention/suspected_persons/3/\n",
      "http://sverdlovsk.sledcom.ru/attention/suspected_persons/4/\n"
     ]
    },
    {
     "name": "stderr",
     "output_type": "stream",
     "text": [
      " 70%|██████▉   | 53/76 [03:58<01:48,  4.70s/it]"
     ]
    },
    {
     "name": "stdout",
     "output_type": "stream",
     "text": [
      "http://tyumen.sledcom.ru/attention/suspected_persons/1/\n",
      "http://tyumen.sledcom.ru/attention/suspected_persons/2/\n"
     ]
    },
    {
     "name": "stderr",
     "output_type": "stream",
     "text": [
      " 71%|███████   | 54/76 [04:02<01:34,  4.30s/it]"
     ]
    },
    {
     "name": "stdout",
     "output_type": "stream",
     "text": [
      "http://chel.sledcom.ru/attention/suspected_persons/1/\n"
     ]
    },
    {
     "name": "stderr",
     "output_type": "stream",
     "text": [
      " 72%|███████▏  | 55/76 [04:04<01:20,  3.83s/it]"
     ]
    },
    {
     "name": "stdout",
     "output_type": "stream",
     "text": [
      "http://yanao.sledcom.ru/attention/suspected_persons/1/\n"
     ]
    },
    {
     "name": "stderr",
     "output_type": "stream",
     "text": [
      " 74%|███████▎  | 56/76 [04:08<01:15,  3.75s/it]"
     ]
    },
    {
     "name": "stdout",
     "output_type": "stream",
     "text": [
      "http://altai-krai.sledcom.ru/attention/suspected_persons/1/\n"
     ]
    },
    {
     "name": "stderr",
     "output_type": "stream",
     "text": [
      " 75%|███████▌  | 57/76 [04:12<01:11,  3.77s/it]"
     ]
    },
    {
     "name": "stdout",
     "output_type": "stream",
     "text": [
      "http://irk.sledcom.ru/attention/suspected_persons/1/\n"
     ]
    },
    {
     "name": "stderr",
     "output_type": "stream",
     "text": [
      " 76%|███████▋  | 58/76 [04:15<01:03,  3.52s/it]"
     ]
    },
    {
     "name": "stdout",
     "output_type": "stream",
     "text": [
      "http://kuzbass.sledcom.ru/attention/suspected_persons/1/\n"
     ]
    },
    {
     "name": "stderr",
     "output_type": "stream",
     "text": [
      " 78%|███████▊  | 59/76 [04:18<00:58,  3.44s/it]"
     ]
    },
    {
     "name": "stdout",
     "output_type": "stream",
     "text": [
      "http://nsk.sledcom.ru/attention/suspected_persons/1/\n",
      "http://nsk.sledcom.ru/attention/suspected_persons/2/\n",
      "http://nsk.sledcom.ru/attention/suspected_persons/3/\n"
     ]
    },
    {
     "name": "stderr",
     "output_type": "stream",
     "text": [
      " 79%|███████▉  | 60/76 [04:23<01:02,  3.92s/it]"
     ]
    },
    {
     "name": "stdout",
     "output_type": "stream",
     "text": [
      "http://omsk.sledcom.ru/attention/suspected_persons/1/\n",
      "http://omsk.sledcom.ru/attention/suspected_persons/2/\n"
     ]
    },
    {
     "name": "stderr",
     "output_type": "stream",
     "text": [
      " 80%|████████  | 61/76 [04:27<01:00,  4.05s/it]"
     ]
    },
    {
     "name": "stdout",
     "output_type": "stream",
     "text": [
      "http://altai.sledcom.ru/attention/suspected_persons/1/\n"
     ]
    },
    {
     "name": "stderr",
     "output_type": "stream",
     "text": [
      " 82%|████████▏ | 62/76 [04:31<00:54,  3.92s/it]"
     ]
    },
    {
     "name": "stdout",
     "output_type": "stream",
     "text": [
      "http://tuva.sledcom.ru/attention/suspected_persons/1/\n"
     ]
    },
    {
     "name": "stderr",
     "output_type": "stream",
     "text": [
      " 83%|████████▎ | 63/76 [04:34<00:49,  3.80s/it]"
     ]
    },
    {
     "name": "stdout",
     "output_type": "stream",
     "text": [
      "http://zapsib-sut.sledcom.ru/attention/suspected_persons/1/\n",
      "http://zapsib-sut.sledcom.ru/attention/suspected_persons/2/\n",
      "http://zapsib-sut.sledcom.ru/attention/suspected_persons/3/\n"
     ]
    },
    {
     "name": "stderr",
     "output_type": "stream",
     "text": [
      " 84%|████████▍ | 64/76 [04:39<00:49,  4.11s/it]"
     ]
    },
    {
     "name": "stdout",
     "output_type": "stream",
     "text": [
      "http://amur.sledcom.ru/attention/suspected_persons/1/\n",
      "http://amur.sledcom.ru/attention/suspected_persons/2/\n",
      "http://amur.sledcom.ru/attention/suspected_persons/3/\n",
      "http://amur.sledcom.ru/attention/suspected_persons/4/\n"
     ]
    },
    {
     "name": "stderr",
     "output_type": "stream",
     "text": [
      " 86%|████████▌ | 65/76 [04:46<00:53,  4.82s/it]"
     ]
    },
    {
     "name": "stdout",
     "output_type": "stream",
     "text": [
      "http://khabkray.sledcom.ru/attention/suspected_persons/1/\n",
      "http://khabkray.sledcom.ru/attention/suspected_persons/2/\n",
      "http://khabkray.sledcom.ru/attention/suspected_persons/3/\n"
     ]
    },
    {
     "name": "stderr",
     "output_type": "stream",
     "text": [
      " 87%|████████▋ | 66/76 [04:51<00:48,  4.83s/it]"
     ]
    },
    {
     "name": "stdout",
     "output_type": "stream",
     "text": [
      "http://zabaykalye.sledcom.ru/attention/Podozrevaemye-v-sovershenii-prestuplenij/1/\n"
     ]
    },
    {
     "name": "stderr",
     "output_type": "stream",
     "text": [
      " 88%|████████▊ | 67/76 [04:53<00:37,  4.18s/it]"
     ]
    },
    {
     "name": "stdout",
     "output_type": "stream",
     "text": [
      "http://kamchatka.sledcom.ru/attention/suspected_persons/1/\n"
     ]
    },
    {
     "name": "stderr",
     "output_type": "stream",
     "text": [
      " 89%|████████▉ | 68/76 [04:56<00:29,  3.67s/it]"
     ]
    },
    {
     "name": "stdout",
     "output_type": "stream",
     "text": [
      "http://magadan.sledcom.ru/attention/suspected_persons/1/\n"
     ]
    },
    {
     "name": "stderr",
     "output_type": "stream",
     "text": [
      " 91%|█████████ | 69/76 [04:59<00:24,  3.50s/it]"
     ]
    },
    {
     "name": "stdout",
     "output_type": "stream",
     "text": [
      "http://primorsky.sledcom.ru/attention/suspected_persons/1/\n",
      "http://primorsky.sledcom.ru/attention/suspected_persons/2/\n"
     ]
    },
    {
     "name": "stderr",
     "output_type": "stream",
     "text": [
      " 92%|█████████▏| 70/76 [05:03<00:21,  3.65s/it]"
     ]
    },
    {
     "name": "stdout",
     "output_type": "stream",
     "text": [
      "http://buryatia.sledcom.ru/attention/suspected_persons/1/\n",
      "http://buryatia.sledcom.ru/attention/suspected_persons/2/\n",
      "http://buryatia.sledcom.ru/attention/suspected_persons/3/\n"
     ]
    },
    {
     "name": "stderr",
     "output_type": "stream",
     "text": [
      " 93%|█████████▎| 71/76 [05:08<00:20,  4.10s/it]"
     ]
    },
    {
     "name": "stdout",
     "output_type": "stream",
     "text": [
      "http://ykt.sledcom.ru/attention/suspected_persons/1/\n",
      "http://ykt.sledcom.ru/attention/suspected_persons/2/\n"
     ]
    },
    {
     "name": "stderr",
     "output_type": "stream",
     "text": [
      " 95%|█████████▍| 72/76 [05:11<00:15,  3.87s/it]"
     ]
    },
    {
     "name": "stdout",
     "output_type": "stream",
     "text": [
      "http://sakh.sledcom.ru/attention/suspected_persons/1/\n"
     ]
    },
    {
     "name": "stderr",
     "output_type": "stream",
     "text": [
      " 96%|█████████▌| 73/76 [05:14<00:10,  3.51s/it]"
     ]
    },
    {
     "name": "stdout",
     "output_type": "stream",
     "text": [
      "http://chukotka.sledcom.ru/attention/suspected_persons/1/\n"
     ]
    },
    {
     "name": "stderr",
     "output_type": "stream",
     "text": [
      " 97%|█████████▋| 74/76 [05:17<00:06,  3.29s/it]"
     ]
    },
    {
     "name": "stdout",
     "output_type": "stream",
     "text": [
      "http://kherson.sledcom.ru/attention/suspected_persons/1/\n"
     ]
    },
    {
     "name": "stderr",
     "output_type": "stream",
     "text": [
      " 99%|█████████▊| 75/76 [05:20<00:03,  3.30s/it]"
     ]
    },
    {
     "name": "stdout",
     "output_type": "stream",
     "text": [
      "http://zaporozhye.sledcom.ru/attention/suspected_persons/1/\n"
     ]
    },
    {
     "name": "stderr",
     "output_type": "stream",
     "text": [
      "100%|██████████| 76/76 [05:23<00:00,  4.26s/it]\n"
     ]
    }
   ],
   "source": [
    "criminals, links_next_next_full = scrape_criminals(url)"
   ]
  },
  {
   "cell_type": "code",
   "execution_count": 18,
   "id": "1baf1418-dbea-4848-ab75-35c1f928968d",
   "metadata": {
    "tags": []
   },
   "outputs": [
    {
     "name": "stderr",
     "output_type": "stream",
     "text": [
      "100%|██████████| 185/185 [1:00:45<00:00, 19.71s/it]\n"
     ]
    }
   ],
   "source": [
    "df = scrape_criminal_data(criminals, links_next_next_full)"
   ]
  },
  {
   "cell_type": "code",
   "execution_count": 19,
   "id": "3a6b6444-bcbf-4e83-9735-1f6f73a72310",
   "metadata": {},
   "outputs": [
    {
     "data": {
      "text/html": [
       "<div>\n",
       "<style scoped>\n",
       "    .dataframe tbody tr th:only-of-type {\n",
       "        vertical-align: middle;\n",
       "    }\n",
       "\n",
       "    .dataframe tbody tr th {\n",
       "        vertical-align: top;\n",
       "    }\n",
       "\n",
       "    .dataframe thead th {\n",
       "        text-align: right;\n",
       "    }\n",
       "</style>\n",
       "<table border=\"1\" class=\"dataframe\">\n",
       "  <thead>\n",
       "    <tr style=\"text-align: right;\">\n",
       "      <th></th>\n",
       "      <th>Title</th>\n",
       "      <th>Text</th>\n",
       "      <th>Image</th>\n",
       "    </tr>\n",
       "  </thead>\n",
       "  <tbody>\n",
       "    <tr>\n",
       "      <th>0</th>\n",
       "      <td>Внимание! Розыск! Устанавливается подозреваемы...</td>\n",
       "      <td>Приметы напавшего по состоянию на 2015 год: на...</td>\n",
       "      <td>http://vladimir.sledcom.ru/upload/site16/docum...</td>\n",
       "    </tr>\n",
       "    <tr>\n",
       "      <th>1</th>\n",
       "      <td>Пономарев Игорь Сергеевич, 27.07.1975 г.р.</td>\n",
       "      <td>\\nуголовное дело № 1628, возбуждено 28.07.2005...</td>\n",
       "      <td></td>\n",
       "    </tr>\n",
       "    <tr>\n",
       "      <th>2</th>\n",
       "      <td>Петросян Арарат Матевосович, 2.04.1962 г.р.</td>\n",
       "      <td>\\n1. уголовное дело № 1636, возбуждено 14.08.2...</td>\n",
       "      <td>http://vladimir.sledcom.ru/upload/site16/6yzCh...</td>\n",
       "    </tr>\n",
       "    <tr>\n",
       "      <th>3</th>\n",
       "      <td>Мусаев Асиф Джалал оглы</td>\n",
       "      <td>\\n1.  уголовное дело № 792, возбуждено 1.05.20...</td>\n",
       "      <td>http://vladimir.sledcom.ru/upload/site16/OAoVX...</td>\n",
       "    </tr>\n",
       "    <tr>\n",
       "      <th>4</th>\n",
       "      <td>Тухтаров Баходур Хангеевич</td>\n",
       "      <td>\\nуголовное дело № 2479, возбуждено 10.08.2005...</td>\n",
       "      <td></td>\n",
       "    </tr>\n",
       "    <tr>\n",
       "      <th>...</th>\n",
       "      <td>...</td>\n",
       "      <td>...</td>\n",
       "      <td>...</td>\n",
       "    </tr>\n",
       "    <tr>\n",
       "      <th>1491</th>\n",
       "      <td>ВНИМАНИЕ РОЗЫСК</td>\n",
       "      <td>\\n\\n\\nВтором отделом по расследованию особо ва...</td>\n",
       "      <td>http://zaporozhye.sledcom.ru/upload/site105/do...</td>\n",
       "    </tr>\n",
       "    <tr>\n",
       "      <th>1492</th>\n",
       "      <td>ВНИМАНИЕ РОЗЫСК</td>\n",
       "      <td>\\n\\n\\nПервым отделом по расследованию особо ва...</td>\n",
       "      <td>http://zaporozhye.sledcom.ru/upload/site105/do...</td>\n",
       "    </tr>\n",
       "    <tr>\n",
       "      <th>1493</th>\n",
       "      <td>ВНИМАНИЕ РОЗЫСК</td>\n",
       "      <td>\\n\\n\\nУроженка г. Бердянск Запорожской области...</td>\n",
       "      <td>http://zaporozhye.sledcom.ru/upload/site105/do...</td>\n",
       "    </tr>\n",
       "    <tr>\n",
       "      <th>1494</th>\n",
       "      <td>ВНИМАНИЕ РОЗЫСК</td>\n",
       "      <td>\\n\\n\\nПервым отделом по расследованию особо ва...</td>\n",
       "      <td>http://zaporozhye.sledcom.ru/upload/site105/do...</td>\n",
       "    </tr>\n",
       "    <tr>\n",
       "      <th>1495</th>\n",
       "      <td>ВНИМАНИЕ РОЗЫСК</td>\n",
       "      <td>\\n\\n\\n\\n</td>\n",
       "      <td>http://zaporozhye.sledcom.ru/upload/site105/do...</td>\n",
       "    </tr>\n",
       "  </tbody>\n",
       "</table>\n",
       "<p>1496 rows × 3 columns</p>\n",
       "</div>"
      ],
      "text/plain": [
       "                                                  Title  \\\n",
       "0     Внимание! Розыск! Устанавливается подозреваемы...   \n",
       "1            Пономарев Игорь Сергеевич, 27.07.1975 г.р.   \n",
       "2           Петросян Арарат Матевосович, 2.04.1962 г.р.   \n",
       "3                               Мусаев Асиф Джалал оглы   \n",
       "4                            Тухтаров Баходур Хангеевич   \n",
       "...                                                 ...   \n",
       "1491                                    ВНИМАНИЕ РОЗЫСК   \n",
       "1492                                    ВНИМАНИЕ РОЗЫСК   \n",
       "1493                                    ВНИМАНИЕ РОЗЫСК   \n",
       "1494                                    ВНИМАНИЕ РОЗЫСК   \n",
       "1495                                    ВНИМАНИЕ РОЗЫСК   \n",
       "\n",
       "                                                   Text  \\\n",
       "0     Приметы напавшего по состоянию на 2015 год: на...   \n",
       "1     \\nуголовное дело № 1628, возбуждено 28.07.2005...   \n",
       "2     \\n1. уголовное дело № 1636, возбуждено 14.08.2...   \n",
       "3     \\n1.  уголовное дело № 792, возбуждено 1.05.20...   \n",
       "4     \\nуголовное дело № 2479, возбуждено 10.08.2005...   \n",
       "...                                                 ...   \n",
       "1491  \\n\\n\\nВтором отделом по расследованию особо ва...   \n",
       "1492  \\n\\n\\nПервым отделом по расследованию особо ва...   \n",
       "1493  \\n\\n\\nУроженка г. Бердянск Запорожской области...   \n",
       "1494  \\n\\n\\nПервым отделом по расследованию особо ва...   \n",
       "1495                                           \\n\\n\\n\\n   \n",
       "\n",
       "                                                  Image  \n",
       "0     http://vladimir.sledcom.ru/upload/site16/docum...  \n",
       "1                                                        \n",
       "2     http://vladimir.sledcom.ru/upload/site16/6yzCh...  \n",
       "3     http://vladimir.sledcom.ru/upload/site16/OAoVX...  \n",
       "4                                                        \n",
       "...                                                 ...  \n",
       "1491  http://zaporozhye.sledcom.ru/upload/site105/do...  \n",
       "1492  http://zaporozhye.sledcom.ru/upload/site105/do...  \n",
       "1493  http://zaporozhye.sledcom.ru/upload/site105/do...  \n",
       "1494  http://zaporozhye.sledcom.ru/upload/site105/do...  \n",
       "1495  http://zaporozhye.sledcom.ru/upload/site105/do...  \n",
       "\n",
       "[1496 rows x 3 columns]"
      ]
     },
     "execution_count": 19,
     "metadata": {},
     "output_type": "execute_result"
    }
   ],
   "source": [
    "df"
   ]
  },
  {
   "cell_type": "code",
   "execution_count": 20,
   "id": "f14e0ebc-51af-4dbe-82c0-6e9e642363d6",
   "metadata": {
    "tags": []
   },
   "outputs": [],
   "source": [
    "df.to_excel('sledcom.xlsx')"
   ]
  },
  {
   "cell_type": "code",
   "execution_count": 21,
   "id": "b1a1c0e3-3cf8-4bbb-81e7-50d876954a5f",
   "metadata": {
    "tags": []
   },
   "outputs": [],
   "source": [
    "df.to_csv('sledcom.csv')"
   ]
  },
  {
   "cell_type": "code",
   "execution_count": null,
   "id": "2611d5f1-7a58-4b3c-9460-ec3cc9a419f4",
   "metadata": {},
   "outputs": [],
   "source": []
  }
 ],
 "metadata": {
  "kernelspec": {
   "display_name": "Python 3 (ipykernel)",
   "language": "python",
   "name": "python3"
  },
  "language_info": {
   "codemirror_mode": {
    "name": "ipython",
    "version": 3
   },
   "file_extension": ".py",
   "mimetype": "text/x-python",
   "name": "python",
   "nbconvert_exporter": "python",
   "pygments_lexer": "ipython3",
   "version": "3.9.18"
  }
 },
 "nbformat": 4,
 "nbformat_minor": 5
}
